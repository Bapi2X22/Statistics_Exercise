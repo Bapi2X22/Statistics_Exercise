{
 "cells": [
  {
   "cell_type": "code",
   "execution_count": 1,
   "metadata": {},
   "outputs": [],
   "source": [
    "import numpy as np\n",
    "import scipy.stats as stats\n",
    "import matplotlib.pyplot as plt\n",
    "plt.rcParams[\"font.size\"] = 14\n",
    "from scipy.integrate import quad\n",
    "import pickle"
   ]
  },
  {
   "cell_type": "code",
   "execution_count": 2,
   "metadata": {},
   "outputs": [
    {
     "data": {
      "image/png": "[encoded data removed]",
      "text/plain": [
       "<Figure size 500x500 with 1 Axes>"
      ]
     },
     "metadata": {},
     "output_type": "display_data"
    }
   ],
   "source": [
    "#  Plot the pdfs\n",
    "def f_s(x):\n",
    "    return 5*np.exp(-5*x)\n",
    "def f_b(x):\n",
    "    return 2*np.exp(-2*x)\n",
    "x = np.linspace(0., 5., 201)\n",
    "fs = f_s(x)\n",
    "fb = f_b(x)\n",
    "fig = plt.figure(figsize=(5,5))\n",
    "plt.plot(x, fs, color='orange', label=r'$f(x|s)$')\n",
    "plt.plot(x, fb, color='dodgerblue', label=r'$f(x|b)$')\n",
    "plt.xlabel(r'$x$')\n",
    "plt.ylabel(r'$f(x)$')\n",
    "plt.xlim(0., 5.)\n",
    "plt.ylim(0., 6)\n",
    "plt.legend(loc='upper center', frameon=False)\n",
    "plt.subplots_adjust(left=0.15, right=0.9, top=0.9, bottom=0.15)\n",
    "plt.show()"
   ]
  },
  {
   "cell_type": "code",
   "execution_count": 3,
   "metadata": {},
   "outputs": [],
   "source": [
    "from scipy.stats import rv_continuous\n",
    "class my_dist(rv_continuous):\n",
    "    \"f(x)=f_b(x) distribution\"\n",
    "    def _pdf(self, x):\n",
    "        return 2*np.exp(-2*x)                # creating the pdf for background\n",
    "my_Dist_back = my_dist(name='background',a=0,b=1)\n"
   ]
  },
  {
   "cell_type": "code",
   "execution_count": 4,
   "metadata": {},
   "outputs": [],
   "source": [
    "class my_dist2(rv_continuous):\n",
    "    \"f(x)=f_b(x) distribution\"\n",
    "    def _pdf(self, x):\n",
    "        return 5*np.exp(-5*x)            # creating the pdf for signal\n",
    "my_Dist_sig = my_dist2(name='signal',a=0,b=1)"
   ]
  },
  {
   "cell_type": "code",
   "execution_count": 43,
   "metadata": {},
   "outputs": [
    {
     "data": {
      "text/plain": [
       "np.float64(0.02564664719377544)"
      ]
     },
     "execution_count": 43,
     "metadata": {},
     "output_type": "execute_result"
    }
   ],
   "source": [
    "x_cut=my_Dist_back.ppf(0.05)\n",
    "x_cut"
   ]
  },
  {
   "cell_type": "code",
   "execution_count": 44,
   "metadata": {},
   "outputs": [
    {
     "data": {
      "text/plain": [
       "np.float64(0.12035181038099177)"
      ]
     },
     "execution_count": 44,
     "metadata": {},
     "output_type": "execute_result"
    }
   ],
   "source": [
    "cdf=my_Dist_sig.cdf(x_cut)\n",
    "cdf"
   ]
  },
  {
   "cell_type": "code",
   "execution_count": 45,
   "metadata": {},
   "outputs": [],
   "source": [
    "X_cut = 0.1\n",
    "b_tot = 100\n",
    "s_tot = 10\n",
    "\n",
    "CDF_b = my_Dist_back.cdf(X_cut)\n",
    "CDF_s = my_Dist_sig.cdf(X_cut)\n",
    "\n",
    "s = s_tot * CDF_s\n",
    "b = b_tot * CDF_b"
   ]
  },
  {
   "cell_type": "code",
   "execution_count": 46,
   "metadata": {},
   "outputs": [
    {
     "data": {
      "text/plain": [
       "np.float64(3.934693402873666)"
      ]
     },
     "execution_count": 46,
     "metadata": {},
     "output_type": "execute_result"
    }
   ],
   "source": [
    "s"
   ]
  },
  {
   "cell_type": "code",
   "execution_count": 47,
   "metadata": {},
   "outputs": [
    {
     "data": {
      "text/plain": [
       "np.float64(18.12692469220181)"
      ]
     },
     "execution_count": 47,
     "metadata": {},
     "output_type": "execute_result"
    }
   ],
   "source": [
    "b"
   ]
  },
  {
   "cell_type": "code",
   "execution_count": 48,
   "metadata": {},
   "outputs": [],
   "source": [
    "pi_s = s_tot/(s_tot+b_tot)\n",
    "pi_b = b_tot/(s_tot+b_tot)"
   ]
  },
  {
   "cell_type": "code",
   "execution_count": 49,
   "metadata": {},
   "outputs": [
    {
     "data": {
      "text/plain": [
       "0.09090909090909091"
      ]
     },
     "execution_count": 49,
     "metadata": {},
     "output_type": "execute_result"
    }
   ],
   "source": [
    "pi_s"
   ]
  },
  {
   "cell_type": "code",
   "execution_count": 50,
   "metadata": {},
   "outputs": [
    {
     "data": {
      "text/plain": [
       "0.9090909090909091"
      ]
     },
     "execution_count": 50,
     "metadata": {},
     "output_type": "execute_result"
    }
   ],
   "source": [
    "pi_b"
   ]
  },
  {
   "cell_type": "code",
   "execution_count": 51,
   "metadata": {},
   "outputs": [],
   "source": [
    "P_s = (CDF_s * pi_s)/(CDF_s * pi_s + CDF_b * pi_b)"
   ]
  },
  {
   "cell_type": "code",
   "execution_count": 52,
   "metadata": {},
   "outputs": [
    {
     "data": {
      "text/plain": [
       "np.float64(0.17835017295272443)"
      ]
     },
     "execution_count": 52,
     "metadata": {},
     "output_type": "execute_result"
    }
   ],
   "source": [
    "P_s\n"
   ]
  },
  {
   "cell_type": "code",
   "execution_count": 5,
   "metadata": {},
   "outputs": [],
   "source": [
    "import math\n",
    "def p_value(b, n_obs):\n",
    "    term_list=[]\n",
    "    for n in range(n_obs):\n",
    "        term = np.exp(-b) * b**n / math.factorial(n)\n",
    "        term_list.append(term)\n",
    "    return (1-(np.sum(term_list)))"
   ]
  },
  {
   "cell_type": "code",
   "execution_count": 54,
   "metadata": {},
   "outputs": [],
   "source": [
    "p_val=p_value(0.5,3)"
   ]
  },
  {
   "cell_type": "code",
   "execution_count": 55,
   "metadata": {},
   "outputs": [
    {
     "data": {
      "text/plain": [
       "np.float64(0.014387677966970713)"
      ]
     },
     "execution_count": 55,
     "metadata": {},
     "output_type": "execute_result"
    }
   ],
   "source": [
    "p_val"
   ]
  },
  {
   "cell_type": "code",
   "execution_count": 56,
   "metadata": {},
   "outputs": [
    {
     "data": {
      "text/plain": [
       "2.186550477435837"
      ]
     },
     "execution_count": 56,
     "metadata": {},
     "output_type": "execute_result"
    }
   ],
   "source": [
    "from statistics import NormalDist\n",
    "\n",
    "sig = NormalDist(mu=0, sigma=1).inv_cdf(1-p_val)\n",
    "sig"
   ]
  },
  {
   "cell_type": "code",
   "execution_count": 57,
   "metadata": {},
   "outputs": [],
   "source": [
    "# Defining the function for expected(median) significance with x_c as parameter\n",
    "def ex_sig_gen(x_c):\n",
    "    b_tot = 100\n",
    "    s_tot = 10\n",
    "\n",
    "    CDF_b = my_Dist_back.cdf(x_c)\n",
    "    CDF_s = my_Dist_sig.cdf(x_c)\n",
    "\n",
    "    s = s_tot * CDF_s\n",
    "    b = b_tot * CDF_b\n",
    "\n",
    "    term1 = (s+b)\n",
    "    term2 = np.log(1+(s/b))\n",
    "    return np.sqrt(2*((term1*term2)-s))"
   ]
  },
  {
   "cell_type": "code",
   "execution_count": 58,
   "metadata": {},
   "outputs": [
    {
     "name": "stdout",
     "output_type": "stream",
     "text": [
      "0.39207090521842064\n"
     ]
    }
   ],
   "source": [
    "from scipy.optimize import minimize_scalar\n",
    "result = minimize_scalar(\n",
    "    lambda x: -ex_sig_gen(x),  # Negative for maximization\n",
    "    bounds=(0,1),  # Search range\n",
    "    method='bounded'\n",
    ")\n",
    "xc_max = result[\"x\"]\n",
    "print(xc_max)"
   ]
  },
  {
   "cell_type": "code",
   "execution_count": 26,
   "metadata": {},
   "outputs": [],
   "source": [
    "# xc = np.linspace(0,1,100)\n",
    "# plt.plot(xc, ex_sig_gen(xc))\n",
    "# plt.plot([xc_max,xc_max],[1,ex_sig_gen(xc_max)])\n",
    "# plt.xlabel(r'$x_c$')\n",
    "# plt.ylabel(\"Expected(median) significance\")"
   ]
  },
  {
   "cell_type": "code",
   "execution_count": 6,
   "metadata": {},
   "outputs": [],
   "source": [
    "import numpy as np\n",
    "import scipy.stats as stats\n",
    "import matplotlib\n",
    "import matplotlib.pyplot as plt\n",
    "plt.rcParams[\"font.size\"] = 14\n",
    "import pickle"
   ]
  },
  {
   "cell_type": "code",
   "execution_count": 7,
   "metadata": {},
   "outputs": [],
   "source": [
    "def A(f,a,b):\n",
    "    I, err = quad(f, a, b)\n",
    "    return 1/I      #Normalisation"
   ]
  },
  {
   "cell_type": "code",
   "execution_count": 8,
   "metadata": {},
   "outputs": [],
   "source": [
    "def B(f,a,b):\n",
    "    I, err = quad(f, a, b)\n",
    "    return I      #Normalisation"
   ]
  },
  {
   "cell_type": "code",
   "execution_count": 9,
   "metadata": {},
   "outputs": [],
   "source": [
    "l=0\n",
    "h=0.5\n",
    "s_tot = 10.\n",
    "b_tot = 100.\n",
    "ps = s_tot/(s_tot+b_tot)\n",
    "def f_s(x):\n",
    "    return 5*np.exp(-5*x)\n",
    "def f_b(x):\n",
    "    return 2*np.exp(-2*x)\n",
    "def q_cut(x):\n",
    "    return -2.*np.log(1. + (S_cut/B_cut)*(A(f_s,l,h)*f_s(x))/(A(f_b,l,h)*f_b(x)))\n",
    "def q(x):\n",
    "    return -2.*np.log(1. + (s_tot/b_tot)*f_s(x)/f_b(x))\n",
    "\n",
    "S_cut = s_tot*B(f_s,l,h)\n",
    "B_cut = b_tot*B(f_b,l,h)\n",
    "ps_cut = S_cut/(S_cut+B_cut)"
   ]
  },
  {
   "cell_type": "code",
   "execution_count": 80,
   "metadata": {},
   "outputs": [
    {
     "data": {
      "text/plain": [
       "0.10303645296521874"
      ]
     },
     "execution_count": 80,
     "metadata": {},
     "output_type": "execute_result"
    }
   ],
   "source": [
    "ps_cut"
   ]
  },
  {
   "cell_type": "code",
   "execution_count": 10,
   "metadata": {},
   "outputs": [],
   "source": [
    "def exp_in_range(scale, lower, upper, size=1):\n",
    "    samples = []\n",
    "    while len(samples) < size:\n",
    "        sample = np.random.exponential(scale)  # Generate from exponential distribution\n",
    "        if lower <= sample <= upper:         # Keep only if within range\n",
    "            samples.append(sample)\n",
    "    return np.array(samples)"
   ]
  },
  {
   "cell_type": "code",
   "execution_count": 66,
   "metadata": {},
   "outputs": [
    {
     "data": {
      "text/plain": [
       "array([0.36839886, 1.03015832, 0.01403619, 0.41769003])"
      ]
     },
     "execution_count": 66,
     "metadata": {},
     "output_type": "execute_result"
    }
   ],
   "source": [
    "x=np.random.exponential(0.5,4)\n",
    "x"
   ]
  },
  {
   "cell_type": "code",
   "execution_count": 19,
   "metadata": {},
   "outputs": [],
   "source": []
  },
  {
   "cell_type": "code",
   "execution_count": 97,
   "metadata": {},
   "outputs": [
    {
     "data": {
      "image/png": "[encoded data removed]",
      "text/plain": [
       "<Figure size 640x480 with 1 Axes>"
      ]
     },
     "metadata": {},
     "output_type": "display_data"
    }
   ],
   "source": [
    "x=exp_in_range(0.5,l,h,10000)\n",
    "plt.hist(x,density=True)\n",
    "x_p = np.linspace(l,h,1000)\n",
    "fact = (np.exp(-2/2)-np.exp(-2))\n",
    "plt.plot(x_p,f_b(x_p)*A(f_b,l,h))\n",
    "plt.show()"
   ]
  },
  {
   "cell_type": "code",
   "execution_count": 8,
   "metadata": {},
   "outputs": [
    {
     "name": "stdout",
     "output_type": "stream",
     "text": [
      "....................................................................................................\n",
      "\n"
     ]
    }
   ],
   "source": [
    "# # Generate data under b and s+b hypotheses\n",
    "# qb = []\n",
    "# qsb = []\n",
    "# numExp = 100000\n",
    "# np.random.seed(seed=1234567)        # fix random seed\n",
    "# for i in range(numExp):\n",
    "#     n = np.random.poisson(b_tot)       # first b only\n",
    "#     r = np.random.uniform(0., 1., n)\n",
    "#     xb = 0.5*np.log(1/(1-r))\n",
    "#     qb.append(np.sum(q(xb)))\n",
    "#     n = np.random.poisson(s_tot+b_tot) # then s+b\n",
    "#     r1 = np.random.uniform(0., 1., n)\n",
    "#     r2 = np.random.uniform(0., 1., n)\n",
    "#     xsb = [(1/5)*np.log(1/(1-r1[j])) if r2[j]<ps else 0.5*np.log(1/(1-r1[j])) for j in range(n)]\n",
    "#     xsb = np.array(xsb)\n",
    "#     qsb.append(np.sum(q(xsb)))\n",
    "#     if len(qsb)%(numExp/100) == 0:\n",
    "#             print(\".\", end=\"\", flush=True)\n",
    "# print(\"\\n\")\n",
    "# qb = np.array(qb)\n",
    "# qsb = np.array(qsb)"
   ]
  },
  {
   "cell_type": "code",
   "execution_count": 13,
   "metadata": {},
   "outputs": [
    {
     "name": "stdout",
     "output_type": "stream",
     "text": [
      "....................................................................................................\n",
      "\n"
     ]
    }
   ],
   "source": [
    "qb = []\n",
    "qsb = []\n",
    "numExp = 100000\n",
    "np.random.seed(seed=1234567)        # fix random seed\n",
    "for i in range(numExp):\n",
    "    n = np.random.poisson(b_tot)       # first b only\n",
    "    xb = np.random.exponential(0.5,n)\n",
    "    qb.append(np.sum(q(xb)))\n",
    "    # n = np.random.poisson(s_tot+b_tot) # then s+b\n",
    "    # r1 = np.random.uniform(0., 1., n)\n",
    "    # r2 = np.random.uniform(0., 1., n)\n",
    "    # xsb = [(1/5)*np.log(1/(1-r1[j])) if r2[j]<ps else 0.5*np.log(1/(1-r1[j])) for j in range(n)]\n",
    "    n = np.random.poisson(s_tot+b_tot) # then s+b\n",
    "    r2 = np.random.uniform(0., 1., n)\n",
    "    xsb = [np.random.exponential(0.2) if r2[j]<ps else np.random.exponential(0.5) for j in range(n)]\n",
    "    xsb = np.array(xsb)\n",
    "    qsb.append(np.sum(q(xsb)))\n",
    "    if len(qsb)%(numExp/100) == 0:\n",
    "            print(\".\", end=\"\", flush=True)\n",
    "print(\"\\n\")\n",
    "qb = np.array(qb)\n",
    "qsb = np.array(qsb)"
   ]
  },
  {
   "cell_type": "code",
   "execution_count": 18,
   "metadata": {},
   "outputs": [
    {
     "name": "stdout",
     "output_type": "stream",
     "text": [
      "....................................................................................................\n",
      "\n"
     ]
    }
   ],
   "source": [
    "qb = []\n",
    "qsb = []\n",
    "numExp = 100000\n",
    "np.random.seed(seed=1234567)        # fix random seed\n",
    "for i in range(numExp):\n",
    "    n = np.random.poisson(B_cut)       # first b only\n",
    "    # xb = np.random.exponential(0.5,n)\n",
    "    xb=exp_in_range(0.5,l,h,n)\n",
    "    qb.append(np.sum(q_cut(xb)))\n",
    "    # n = np.random.poisson(s_tot+b_tot) # then s+b\n",
    "    # r1 = np.random.uniform(0., 1., n)\n",
    "    # r2 = np.random.uniform(0., 1., n)\n",
    "    # xsb = [(1/5)*np.log(1/(1-r1[j])) if r2[j]<ps else 0.5*np.log(1/(1-r1[j])) for j in range(n)]\n",
    "    n = np.random.poisson(S_cut+B_cut) # then s+b\n",
    "    r2 = np.random.uniform(0., 1., n)\n",
    "    # xsb = [np.random.exponential(0.2) if r2[j]<ps_cut else np.random.exponential(0.5) for j in range(n)]\n",
    "    xsb = [exp_in_range(0.2,l,h,1) if r2[j]<ps_cut else exp_in_range(0.5,l,h,1) for j in range(n)]\n",
    "    xsb = np.array(xsb)\n",
    "    qsb.append(np.sum(q_cut(xsb)))\n",
    "    if len(qsb)%(numExp/100) == 0:\n",
    "            print(\".\", end=\"\", flush=True)\n",
    "print(\"\\n\")\n",
    "qb_cut = np.array(qb)\n",
    "qsb_cut = np.array(qsb)"
   ]
  },
  {
   "cell_type": "code",
   "execution_count": 14,
   "metadata": {},
   "outputs": [],
   "source": [
    "with open(\"q_bkg_n.pickle\" , \"wb\") as outpickle:\n",
    "    pickle.dump(qb, outpickle)\n",
    "\n",
    "with open(\"q_sig_bkg_n.pickle\" , \"wb\") as outpickle:\n",
    "    pickle.dump(qsb, outpickle)\n"
   ]
  },
  {
   "cell_type": "code",
   "execution_count": 19,
   "metadata": {},
   "outputs": [],
   "source": [
    "with open(\"q_bkg_nc.pickle\" , \"wb\") as outpickle:\n",
    "    pickle.dump(qb_cut, outpickle)\n",
    "\n",
    "with open(\"q_sig_bkg_nc.pickle\" , \"wb\") as outpickle:\n",
    "    pickle.dump(qsb_cut, outpickle)"
   ]
  },
  {
   "cell_type": "code",
   "execution_count": 15,
   "metadata": {},
   "outputs": [],
   "source": [
    "qb_n = np.array(np.load('q_bkg_n.pickle',allow_pickle=True)).flatten()\n",
    "qsb_n = np.array(np.load('q_sig_bkg_n.pickle',allow_pickle=True)).flatten()"
   ]
  },
  {
   "cell_type": "code",
   "execution_count": 20,
   "metadata": {},
   "outputs": [],
   "source": [
    "qb_nc = np.array(np.load('q_bkg_nc.pickle',allow_pickle=True)).flatten()\n",
    "qsb_nc = np.array(np.load('q_sig_bkg_nc.pickle',allow_pickle=True)).flatten()"
   ]
  },
  {
   "cell_type": "code",
   "execution_count": 16,
   "metadata": {},
   "outputs": [
    {
     "name": "stdout",
     "output_type": "stream",
     "text": [
      "median[q|s+b]   = -21.425\n"
     ]
    }
   ],
   "source": [
    "nBins = 400\n",
    "qMin = -40.\n",
    "qMax = 0.\n",
    "qbHist, bin_edges = np.histogram(qb_n, bins=nBins, range=(qMin,qMax), density=True)\n",
    "qsbHist, bin_edges = np.histogram(qsb_n, bins=nBins, range=(qMin,qMax), density=True)\n",
    "med_q_sb = np.median(qsb)\n",
    "print(\"median[q|s+b]   = {:.3f}\".format(med_q_sb))"
   ]
  },
  {
   "cell_type": "code",
   "execution_count": 21,
   "metadata": {},
   "outputs": [
    {
     "name": "stdout",
     "output_type": "stream",
     "text": [
      "median[q|s+b]   = -19.745\n"
     ]
    }
   ],
   "source": [
    "# Make and analyse histograms of q for b and s+b hypotheses\n",
    "nBins = 400\n",
    "qMin = -40.\n",
    "qMax = 0.\n",
    "qbHist_c, bin_edges_c = np.histogram(qb_nc, bins=nBins, range=(qMin,qMax), density=True)\n",
    "qsbHist_c, bin_edges_c = np.histogram(qsb_nc, bins=nBins, range=(qMin,qMax), density=True)\n",
    "med_q_sb_c = np.median(qsb_nc)\n",
    "print(\"median[q|s+b]   = {:.3f}\".format(med_q_sb_c))"
   ]
  },
  {
   "cell_type": "code",
   "execution_count": 17,
   "metadata": {},
   "outputs": [
    {
     "data": {
      "image/png": "[encoded data removed]",
      "text/plain": [
       "<Figure size 640x480 with 1 Axes>"
      ]
     },
     "metadata": {},
     "output_type": "display_data"
    }
   ],
   "source": [
    "# Plot histograms of q\n",
    "binLo, binHi = bin_edges[:-1], bin_edges[1:]\n",
    "xPlot = np.array([binLo, binHi]).T.flatten()\n",
    "ybPlot = np.array([qbHist, qbHist]).T.flatten()\n",
    "ysbPlot = np.array([qsbHist, qsbHist]).T.flatten()\n",
    "# xPlot = np.array(binLo)\n",
    "# ybPlot = np.array(qbHist)\n",
    "# ysbPlot = np.array(qsbHist)\n",
    "fig, ax = plt.subplots(1,1)\n",
    "plt.yscale(\"log\")\n",
    "plt.gcf().subplots_adjust(bottom=0.15)\n",
    "plt.gcf().subplots_adjust(left=0.15)\n",
    "plt.xlabel(r'$q$', labelpad=5)\n",
    "plt.ylabel(r'$f(q)$', labelpad=10)\n",
    "plt.plot(xPlot, ybPlot, label=r'$f(q|b)$', color='dodgerblue')\n",
    "plt.plot(xPlot, ysbPlot, label=r'$f(q|s+b)$', color='orange')\n",
    "ax.axvline(med_q_sb, color=\"black\", linestyle=\"dashed\", label = r'median$[q|s+b]$')\n",
    "ax.legend(loc='upper left', frameon=False)\n",
    "plt.show()"
   ]
  },
  {
   "cell_type": "code",
   "execution_count": 22,
   "metadata": {},
   "outputs": [
    {
     "data": {
      "image/png": "[encoded data removed]",
      "text/plain": [
       "<Figure size 640x480 with 1 Axes>"
      ]
     },
     "metadata": {},
     "output_type": "display_data"
    }
   ],
   "source": [
    "# Plot histograms of q\n",
    "binLo, binHi = bin_edges_c[:-1], bin_edges_c[1:]\n",
    "xPlot = np.array([binLo, binHi]).T.flatten()\n",
    "ybPlot = np.array([qbHist_c, qbHist_c]).T.flatten()\n",
    "ysbPlot = np.array([qsbHist_c, qsbHist_c]).T.flatten()\n",
    "# xPlot = np.array(binLo)\n",
    "# ybPlot = np.array(qbHist)\n",
    "# ysbPlot = np.array(qsbHist)\n",
    "fig, ax = plt.subplots(1,1)\n",
    "plt.yscale(\"log\")\n",
    "plt.gcf().subplots_adjust(bottom=0.15)\n",
    "plt.gcf().subplots_adjust(left=0.15)\n",
    "plt.xlabel(r'$q$', labelpad=5)\n",
    "plt.ylabel(r'$f(q)$', labelpad=10)\n",
    "plt.plot(xPlot, ybPlot, label=r'$f(q|b)$', color='dodgerblue')\n",
    "plt.plot(xPlot, ysbPlot, label=r'$f(q|s+b)$', color='orange')\n",
    "ax.axvline(med_q_sb_c, color=\"black\", linestyle=\"dashed\", label = r'median$[q|s+b]$')\n",
    "ax.legend(loc='upper left', frameon=False)\n",
    "plt.show()"
   ]
  }
 ],
 "metadata": {
  "kernelspec": {
   "display_name": "Python 3",
   "language": "python",
   "name": "python3"
  },
  "language_info": {
   "codemirror_mode": {
    "name": "ipython",
    "version": 3
   },
   "file_extension": ".py",
   "mimetype": "text/x-python",
   "name": "python",
   "nbconvert_exporter": "python",
   "pygments_lexer": "ipython3",
   "version": "3.12.3"
  }
 },
 "nbformat": 4,
 "nbformat_minor": 2
}
