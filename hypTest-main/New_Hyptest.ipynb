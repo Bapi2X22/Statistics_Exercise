{
 "cells": [
  {
   "cell_type": "code",
   "execution_count": 1,
   "metadata": {},
   "outputs": [],
   "source": [
    "# Program to find measure of expected significance as a function\n",
    "# of a cut value x_cut applied to measured variable x\n",
    "# by Monte Carlo simulation of the likelihood ratio statistic.\n",
    "# G. Cowan / RHUL Physics / December 2022\n",
    "\n",
    "import numpy as np\n",
    "import scipy.stats as stats\n",
    "import matplotlib\n",
    "import matplotlib.pyplot as plt\n",
    "plt.rcParams[\"font.size\"] = 14"
   ]
  },
  {
   "cell_type": "code",
   "execution_count": 2,
   "metadata": {},
   "outputs": [],
   "source": [
    "#  Define pdfs and likelihood-ratio statisic\n",
    "s_tot = 10.\n",
    "b_tot = 100.\n",
    "ps = s_tot/(s_tot+b_tot)\n",
    "def f_s(x):\n",
    "    return 3.*(1.-x)**2\n",
    "def f_b(x):\n",
    "    return 3.*x**2\n",
    "def q(x):\n",
    "    return -2.*np.log(1. + (s_tot/b_tot)*f_s(x)/f_b(x))"
   ]
  },
  {
   "cell_type": "code",
   "execution_count": null,
   "metadata": {},
   "outputs": [
    {
     "name": "stdout",
     "output_type": "stream",
     "text": [
      "\n",
      "\n",
      "\n",
      "\n"
     ]
    }
   ],
   "source": [
    "# Generate data under b and s+b hypotheses\n",
    "qb2 = []\n",
    "qb22 = []\n",
    "qsb2 = []\n",
    "numExp2 = 10000000\n",
    "np.random.seed(seed=1234567)\n",
    "for i in range(numExp2):\n",
    "    n = np.random.poisson(s_tot+b_tot) # then s+b\n",
    "    r1 = np.random.uniform(0., 1., n)\n",
    "    r2 = np.random.uniform(0., 1., n)\n",
    "    xsb = [1. - r1[j]**(1./3.) if r2[j]<ps else r1[j]**(1./3.) for j in range(n)]\n",
    "    xsb = np.array(xsb)\n",
    "    qsb2.append(np.sum(q(xsb)))\n",
    "np.random.seed(seed=1234567)\n",
    "med_q_sb2 = np.median(qsb2)        # fix random seed\n",
    "print(\"\\n\")\n",
    "for i in range(numExp2):\n",
    "    n = np.random.poisson(b_tot)       # first b only\n",
    "    r = np.random.uniform(0., 1., n)\n",
    "    xb = r**(1./3.)\n",
    "    q_value = np.sum(q(xb))\n",
    "    if q_value < med_q_sb2:\n",
    "        qb2.append(q_value)\n",
    "    else:\n",
    "        qb22.append(q_value)\n",
    "print(\"\\n\")\n",
    "qb2 = np.array(qb2)\n",
    "qb22 = np.array(qb22)\n",
    "qsb2 = np.array(qsb2)"
   ]
  },
  {
   "cell_type": "code",
   "execution_count": 7,
   "metadata": {},
   "outputs": [
    {
     "data": {
      "text/plain": [
       "8e-07"
      ]
     },
     "execution_count": 7,
     "metadata": {},
     "output_type": "execute_result"
    }
   ],
   "source": [
    "frac = len(qb2)/(len(qb2)+len(qb22))\n",
    "frac"
   ]
  },
  {
   "cell_type": "code",
   "execution_count": 8,
   "metadata": {},
   "outputs": [],
   "source": [
    "n = numExp2 * frac"
   ]
  },
  {
   "cell_type": "code",
   "execution_count": 9,
   "metadata": {},
   "outputs": [
    {
     "data": {
      "text/plain": [
       "8.0"
      ]
     },
     "execution_count": 9,
     "metadata": {},
     "output_type": "execute_result"
    }
   ],
   "source": [
    "n"
   ]
  },
  {
   "cell_type": "code",
   "execution_count": 10,
   "metadata": {},
   "outputs": [],
   "source": [
    "import math\n",
    "def p_value(b, n_obs):\n",
    "    term_list=[]\n",
    "    for n in range(n_obs):\n",
    "        term = np.exp(-b) * b**n / math.factorial(n)\n",
    "        term_list.append(term)\n",
    "    return (1-(np.sum(term_list)))"
   ]
  },
  {
   "cell_type": "code",
   "execution_count": 12,
   "metadata": {},
   "outputs": [],
   "source": [
    "p_value = np.sum(qb2)"
   ]
  },
  {
   "cell_type": "code",
   "execution_count": 13,
   "metadata": {},
   "outputs": [
    {
     "data": {
      "text/plain": [
       "-353.3002561605282"
      ]
     },
     "execution_count": 13,
     "metadata": {},
     "output_type": "execute_result"
    }
   ],
   "source": [
    "p_value"
   ]
  }
 ],
 "metadata": {
  "kernelspec": {
   "display_name": "temporary",
   "language": "python",
   "name": "python3"
  },
  "language_info": {
   "codemirror_mode": {
    "name": "ipython",
    "version": 3
   },
   "file_extension": ".py",
   "mimetype": "text/x-python",
   "name": "python",
   "nbconvert_exporter": "python",
   "pygments_lexer": "ipython3",
   "version": "3.9.21"
  }
 },
 "nbformat": 4,
 "nbformat_minor": 2
}
