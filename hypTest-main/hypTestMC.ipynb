{
 "cells": [
  {
   "cell_type": "markdown",
   "id": "27bf9f28",
   "metadata": {},
   "source": [
    "<a href=\"https://colab.research.google.com/github/KMISchool2022/hypTest/blob/main/hypTestMC.ipynb\">\n",
    "<img src=\"https://colab.research.google.com/assets/colab-badge.svg\" alt=\"Open In Colab\">\n",
    "</a>"
   ]
  },
  {
   "cell_type": "markdown",
   "id": "28f5643f",
   "metadata": {},
   "source": [
    "<img src=\"/home/bapi_cms/Downloads/Stat_Exercise/hypTest-main/images/Image_8.png\" alt=\"Image_8\"/>"
   ]
  },
  {
   "cell_type": "code",
   "execution_count": 1,
   "id": "2b23f073",
   "metadata": {},
   "outputs": [],
   "source": [
    "# Program to find measure of expected significance as a function\n",
    "# of a cut value x_cut applied to measured variable x\n",
    "# by Monte Carlo simulation of the likelihood ratio statistic.\n",
    "# G. Cowan / RHUL Physics / December 2022\n",
    "\n",
    "import numpy as np\n",
    "import scipy.stats as stats\n",
    "import matplotlib\n",
    "import matplotlib.pyplot as plt\n",
    "plt.rcParams[\"font.size\"] = 14\n",
    "import pickle"
   ]
  },
  {
   "cell_type": "code",
   "execution_count": 2,
   "id": "3b565a2b",
   "metadata": {},
   "outputs": [],
   "source": [
    "#  Define pdfs and likelihood-ratio statisic\n",
    "s_tot = 10.\n",
    "b_tot = 100.\n",
    "ps = s_tot/(s_tot+b_tot)\n",
    "def f_s(x):\n",
    "    return 3.*(1.-x)**2\n",
    "def f_b(x):\n",
    "    return 3.*x**2\n",
    "def q(x):\n",
    "    return -2.*np.log(1. + (s_tot/b_tot)*f_s(x)/f_b(x))"
   ]
  },
  {
   "cell_type": "code",
   "execution_count": null,
   "id": "5880ac4d",
   "metadata": {},
   "outputs": [
    {
     "name": "stdout",
     "output_type": "stream",
     "text": [
      "....................................................................................................\n",
      "\n"
     ]
    }
   ],
   "source": [
    "# Generate data under b and s+b hypotheses\n",
    "qb = []\n",
    "qsb = []\n",
    "numExp = 10000000\n",
    "np.random.seed(seed=1234567)        # fix random seed\n",
    "for i in range(numExp):\n",
    "    n = np.random.poisson(b_tot)       # first b only\n",
    "    r = np.random.uniform(0., 1., n)\n",
    "    xb = r**(1./3.)\n",
    "    qb.append(np.sum(q(xb)))\n",
    "    n = np.random.poisson(s_tot+b_tot) # then s+b\n",
    "    r1 = np.random.uniform(0., 1., n)\n",
    "    r2 = np.random.uniform(0., 1., n)\n",
    "    xsb = [1. - r1[j]**(1./3.) if r2[j]<ps else r1[j]**(1./3.) for j in range(n)]\n",
    "    xsb = np.array(xsb)\n",
    "    qsb.append(np.sum(q(xsb)))\n",
    "    if len(qsb)%(numExp/100) == 0:\n",
    "            print(\".\", end=\"\", flush=True)\n",
    "print(\"\\n\")\n",
    "qb = np.array(qb)\n",
    "qsb = np.array(qsb)"
   ]
  },
  {
   "cell_type": "code",
   "execution_count": 21,
   "id": "fda56f02",
   "metadata": {},
   "outputs": [],
   "source": [
    "# with open(\"q_bkg.pickle\" , \"wb\") as outpickle:\n",
    "#     pickle.dump(qb, outpickle)\n",
    "\n",
    "# with open(\"q_sig_bkg.pickle\" , \"wb\") as outpickle:\n",
    "#     pickle.dump(qsb, outpickle)\n"
   ]
  },
  {
   "cell_type": "code",
   "execution_count": 5,
   "id": "bf8687ae",
   "metadata": {},
   "outputs": [],
   "source": [
    "qb = np.array(np.load('q_bkg.pickle',allow_pickle=True)).flatten()\n",
    "qsb = np.array(np.load('q_sig_bkg.pickle',allow_pickle=True)).flatten()"
   ]
  },
  {
   "cell_type": "code",
   "execution_count": 4,
   "id": "5c36a768",
   "metadata": {},
   "outputs": [],
   "source": [
    "# qb = []\n",
    "# qsb = []\n",
    "# numExp = 1\n",
    "# np.random.seed(seed=1234567)        # fix random seed\n",
    "# for i in range(numExp):\n",
    "#     n = np.random.poisson(b_tot)       # first b only\n",
    "#     r = np.random.uniform(0., 1., n)\n",
    "#     print(r)\n",
    "#     xb = r**(1./3.)\n",
    "#     qb.append(np.sum(q(xb)))\n",
    "#     n = np.random.poisson(s_tot+b_tot) # then s+b\n",
    "#     r1 = np.random.uniform(0., 1., n)\n",
    "#     print(r1)\n",
    "#     r2 = np.random.uniform(0., 1., n)\n",
    "#     print(r2)"
   ]
  },
  {
   "cell_type": "code",
   "execution_count": 5,
   "id": "fdf82dc2",
   "metadata": {},
   "outputs": [
    {
     "data": {
      "text/plain": [
       "91"
      ]
     },
     "execution_count": 5,
     "metadata": {},
     "output_type": "execute_result"
    }
   ],
   "source": [
    "z=np.random.uniform(0., 1., n)\n",
    "z\n",
    "y=np.random.poisson(b_tot)\n",
    "y"
   ]
  },
  {
   "cell_type": "code",
   "execution_count": 6,
   "id": "bce0e84a",
   "metadata": {},
   "outputs": [
    {
     "name": "stdout",
     "output_type": "stream",
     "text": [
      "median[q|s+b]   = -42.656\n"
     ]
    }
   ],
   "source": [
    "# Make and analyse histograms of q for b and s+b hypotheses\n",
    "nBins = 400\n",
    "qMin = -200.\n",
    "qMax = 0.\n",
    "qbHist, bin_edges = np.histogram(qb, bins=nBins, range=(qMin,qMax), density=True)\n",
    "qsbHist, bin_edges = np.histogram(qsb, bins=nBins, range=(qMin,qMax), density=True)\n",
    "med_q_sb = np.median(qsb)\n",
    "print(\"median[q|s+b]   = {:.3f}\".format(med_q_sb))"
   ]
  },
  {
   "cell_type": "code",
   "execution_count": 7,
   "id": "580b2d5d",
   "metadata": {},
   "outputs": [],
   "source": [
    "# qsbHist"
   ]
  },
  {
   "cell_type": "code",
   "execution_count": 8,
   "id": "c565526c",
   "metadata": {},
   "outputs": [
    {
     "data": {
      "text/plain": [
       "(400,)"
      ]
     },
     "execution_count": 8,
     "metadata": {},
     "output_type": "execute_result"
    }
   ],
   "source": [
    "qbHist.shape"
   ]
  },
  {
   "cell_type": "code",
   "execution_count": 9,
   "id": "9938c79c",
   "metadata": {},
   "outputs": [
    {
     "data": {
      "text/plain": [
       "(401,)"
      ]
     },
     "execution_count": 9,
     "metadata": {},
     "output_type": "execute_result"
    }
   ],
   "source": [
    "bin_edges.shape"
   ]
  },
  {
   "cell_type": "code",
   "execution_count": 10,
   "id": "2ccd7c27",
   "metadata": {},
   "outputs": [],
   "source": [
    "binLo=bin_edges[:-1]\n",
    "# binLo"
   ]
  },
  {
   "cell_type": "code",
   "execution_count": 11,
   "id": "504b441f",
   "metadata": {},
   "outputs": [],
   "source": [
    "binHi=bin_edges[1:]\n",
    "# binHi"
   ]
  },
  {
   "cell_type": "code",
   "execution_count": 12,
   "id": "c1b24376",
   "metadata": {},
   "outputs": [],
   "source": [
    "XX=np.array([binLo, binHi])\n",
    "# print(XX)"
   ]
  },
  {
   "cell_type": "code",
   "execution_count": 13,
   "id": "181d347c",
   "metadata": {},
   "outputs": [],
   "source": [
    "XXT=np.array([binLo, binHi]).T.flatten()\n",
    "# print(XXT)"
   ]
  },
  {
   "cell_type": "code",
   "execution_count": 1,
   "id": "68563526",
   "metadata": {},
   "outputs": [],
   "source": [
    "# # Plot histograms of q\n",
    "# binLo, binHi = bin_edges[:-1], bin_edges[1:]\n",
    "# # xPlot = np.array([binLo, binHi]).T.flatten()\n",
    "# # ybPlot = np.array([qbHist, qbHist]).T.flatten()\n",
    "# # ysbPlot = np.array([qsbHist, qsbHist]).T.flatten()\n",
    "# xPlot = np.array(binLo)\n",
    "# ybPlot = np.array(qbHist)\n",
    "# ysbPlot = np.array(qsbHist)\n",
    "# fig, ax = plt.subplots(1,1)\n",
    "# plt.yscale(\"log\")\n",
    "# plt.gcf().subplots_adjust(bottom=0.15)\n",
    "# plt.gcf().subplots_adjust(left=0.15)\n",
    "# plt.xlabel(r'$q$', labelpad=5)\n",
    "# plt.ylabel(r'$f(q)$', labelpad=10)\n",
    "# plt.plot(xPlot, ybPlot, label=r'$f(q|b)$', color='dodgerblue')\n",
    "# plt.plot(xPlot, ysbPlot, label=r'$f(q|s+b)$', color='orange')\n",
    "# ax.axvline(med_q_sb, color=\"black\", linestyle=\"dashed\", label = r'median$[q|s+b]$')\n",
    "# ax.legend(loc='upper left', frameon=False)\n",
    "# plt.show()"
   ]
  },
  {
   "cell_type": "code",
   "execution_count": 8,
   "id": "c93327df",
   "metadata": {},
   "outputs": [
    {
     "data": {
      "image/png": "[encoded data removed]",
      "text/plain": [
       "<Figure size 640x480 with 1 Axes>"
      ]
     },
     "metadata": {},
     "output_type": "display_data"
    }
   ],
   "source": [
    "# Plot histograms of q\n",
    "binLo, binHi = bin_edges[:-1], bin_edges[1:]\n",
    "xPlot = np.array([binLo, binHi]).T.flatten()\n",
    "ybPlot = np.array([qbHist, qbHist]).T.flatten()\n",
    "ysbPlot = np.array([qsbHist, qsbHist]).T.flatten()\n",
    "# xPlot = np.array(binLo)\n",
    "# ybPlot = np.array(qbHist)\n",
    "# ysbPlot = np.array(qsbHist)\n",
    "fig, ax = plt.subplots(1,1)\n",
    "plt.yscale(\"log\")\n",
    "plt.gcf().subplots_adjust(bottom=0.15)\n",
    "plt.gcf().subplots_adjust(left=0.15)\n",
    "plt.xlabel(r'$q$', labelpad=5)\n",
    "plt.ylabel(r'$f(q)$', labelpad=10)\n",
    "plt.plot(xPlot, ybPlot, label=r'$f(q|b)$', color='dodgerblue')\n",
    "plt.plot(xPlot, ysbPlot, label=r'$f(q|s+b)$', color='orange')\n",
    "ax.axvline(med_q_sb, color=\"black\", linestyle=\"dashed\", label = r'median$[q|s+b]$')\n",
    "ax.legend(loc='upper left', frameon=False)\n",
    "plt.show()"
   ]
  },
  {
   "cell_type": "code",
   "execution_count": 16,
   "id": "fb2a1953",
   "metadata": {},
   "outputs": [],
   "source": [
    "# Add code to calculate the p-value of the b-only hypothesis\n",
    "# for the median q from data generated according to s+b.\n",
    "# Find the corresponding significance Z."
   ]
  },
  {
   "cell_type": "code",
   "execution_count": null,
   "id": "edb93068",
   "metadata": {},
   "outputs": [],
   "source": [
    "# Generate data under b and s+b hypotheses\n",
    "qb2 = []\n",
    "qb22 = []\n",
    "qsb2 = []\n",
    "numExp2 = 1000000\n",
    "np.random.seed(seed=1234567)\n",
    "for i in range(numExp2):\n",
    "    n = np.random.poisson(s_tot+b_tot) # then s+b\n",
    "    r1 = np.random.uniform(0., 1., n)\n",
    "    r2 = np.random.uniform(0., 1., n)\n",
    "    xsb = [1. - r1[j]**(1./3.) if r2[j]<ps else r1[j]**(1./3.) for j in range(n)]\n",
    "    xsb = np.array(xsb)\n",
    "    qsb2.append(np.sum(q(xsb)))\n",
    "np.random.seed(seed=1234567)\n",
    "med_q_sb2 = np.median(qsb)        # fix random seed\n",
    "print(\"\\n\")\n",
    "for i in range(numExp2):\n",
    "    n = np.random.poisson(b_tot)       # first b only\n",
    "    r = np.random.uniform(0., 1., n)\n",
    "    xb = r**(1./3.)\n",
    "    q_value = np.sum(q(xb))\n",
    "    if q_value < med_q_sb2:\n",
    "        qb2.append(q_value)\n",
    "    else:\n",
    "        qb22.append(q_value)\n",
    "print(\"\\n\")\n",
    "qb2 = np.array(qb2)\n",
    "qb22 = np.array(qb22)\n",
    "qsb2 = np.array(qsb2)\n",
    "frac = len(qb22)/(len(qb2)+len(qb22))"
   ]
  },
  {
   "cell_type": "code",
   "execution_count": null,
   "id": "67f90154",
   "metadata": {},
   "outputs": [],
   "source": []
  }
 ],
 "metadata": {
  "kernelspec": {
   "display_name": "Python 3",
   "language": "python",
   "name": "python3"
  },
  "language_info": {
   "codemirror_mode": {
    "name": "ipython",
    "version": 3
   },
   "file_extension": ".py",
   "mimetype": "text/x-python",
   "name": "python",
   "nbconvert_exporter": "python",
   "pygments_lexer": "ipython3",
   "version": "3.12.3"
  }
 },
 "nbformat": 4,
 "nbformat_minor": 5
}
